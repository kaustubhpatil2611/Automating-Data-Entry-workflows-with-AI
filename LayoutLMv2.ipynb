{
 "cells": [
  {
   "cell_type": "code",
   "execution_count": 1,
   "id": "f52b0e0d",
   "metadata": {},
   "outputs": [],
   "source": [
    "import numpy as np\n",
    "import torch\n",
    "import os\n",
    "import json\n",
    "import pickle\n",
    "from PIL import Image\n",
    "from sklearn.metrics import accuracy_score, precision_score, recall_score, f1_score\n",
    "from torch.utils.data import Dataset\n",
    "from transformers import LayoutLMv2Processor, LayoutLMv2ForTokenClassification, \\\n",
    "    TrainingArguments, Trainer"
   ]
  },
  {
   "cell_type": "code",
   "execution_count": 2,
   "id": "e6f66572",
   "metadata": {},
   "outputs": [],
   "source": [
    "ROOT = os.path.dirname(os.path.realpath(\"__file__\"))\n",
    "DATASET = os.path.join(ROOT, \"..\", \"..\", \"..\", \"Datasets\", \"FUNSD\", \"dataset\")\n",
    "TRAINSET = os.path.join(DATASET, \"training_data\")\n",
    "TESTSET = os.path.join(DATASET, \"testing_data\")\n",
    "\n",
    "EPOCHS = 10\n",
    "\n",
    "processor = LayoutLMv2Processor.from_pretrained(\"microsoft/layoutlmv2-base-uncased\", revision=\"no_ocr\")"
   ]
  },
  {
   "cell_type": "code",
   "execution_count": 3,
   "id": "e1c37b7d",
   "metadata": {},
   "outputs": [],
   "source": [
    "def normalize_bbox(bbox, width, height):\n",
    "    return [\n",
    "        int(1000 * (bbox[0] / width)),\n",
    "        int(1000 * (bbox[1] / height)),\n",
    "        int(1000 * (bbox[2] / width)),\n",
    "        int(1000 * (bbox[3] / height)),\n",
    "    ]\n",
    "\n",
    "class FUNSDDataset(Dataset):\n",
    "    def __init__(self, encoded_data):\n",
    "        self.encoded = encoded_data\n",
    "        \n",
    "    def __getitem__(self, idx):\n",
    "        resdict = {k: v[idx] for k, v in self.encoded.items()}\n",
    "        return resdict\n",
    "    \n",
    "    def __len__(self):\n",
    "        return len(self.encoded['labels'])\n",
    "\n",
    "def assemble_dataset(dset_path):\n",
    "    anno_path = os.path.join(dset_path, \"annotations\")\n",
    "    imgs_path = os.path.join(dset_path, \"images\")\n",
    "    \n",
    "    files = os.listdir(imgs_path)\n",
    "    files = [f.split('.')[0] for f in files]\n",
    "    \n",
    "    id2label = {}\n",
    "    label2id = {}\n",
    "\n",
    "    dataset = {\n",
    "        'image' : [],\n",
    "        'input_ids' : [],\n",
    "        'attention_mask' : [],\n",
    "        'token_type_ids' : [],\n",
    "        'bbox' : [],\n",
    "        'labels' : [],\n",
    "    }\n",
    "\n",
    "    \n",
    "    for f in files:\n",
    "        image = Image.open(os.path.join(imgs_path, f\"{f}.png\")).convert(\"RGB\")\n",
    "        with open(os.path.join(anno_path, f\"{f}.json\"), \"r\") as jsonfile:\n",
    "            data = json.load(jsonfile)\n",
    "            \n",
    "        labels = list(set([form['label'] for form in data['form']]))\n",
    "        labels.sort()\n",
    "        \n",
    "        id2label.update(dict(enumerate(labels)))\n",
    "        label2id.update({v: k for k, v in id2label.items()})\n",
    "        \n",
    "        words = []\n",
    "        bboxes = []\n",
    "        labels = []\n",
    "        \n",
    "        for ent in data['form']:\n",
    "            labels.extend([label2id[ent['label']]] * len(ent['words']))\n",
    "            for w in ent['words']:\n",
    "                words.append(w['text'])\n",
    "                bboxes.append(normalize_bbox(w['box'], image.width, image.height))\n",
    "                \n",
    "        encoded_input = processor(image,\n",
    "                                  words,\n",
    "                                  boxes=bboxes,\n",
    "                                  word_labels=labels,\n",
    "                                  padding=\"max_length\",\n",
    "                                  truncation=True)\n",
    "        \n",
    "        encoded_input['image'] = encoded_input['image'][0]\n",
    "        for key in dataset:\n",
    "            dataset[key].append(encoded_input[key])\n",
    "\n",
    "            \n",
    "    return FUNSDDataset(dataset), id2label, label2id"
   ]
  },
  {
   "cell_type": "code",
   "execution_count": 4,
   "id": "9057b820",
   "metadata": {},
   "outputs": [],
   "source": [
    "train_dataset, id2label, label2id = assemble_dataset(TRAINSET)\n",
    "test_dataset, _, _ = assemble_dataset(TESTSET)"
   ]
  },
  {
   "cell_type": "code",
   "execution_count": 5,
   "id": "67cc6478",
   "metadata": {},
   "outputs": [
    {
     "data": {
      "text/plain": [
       "149"
      ]
     },
     "execution_count": 5,
     "metadata": {},
     "output_type": "execute_result"
    }
   ],
   "source": [
    "len(train_dataset)"
   ]
  },
  {
   "cell_type": "code",
   "execution_count": 6,
   "id": "717db930",
   "metadata": {},
   "outputs": [
    {
     "data": {
      "text/plain": [
       "{0: 'answer', 1: 'header', 2: 'other', 3: 'question'}"
      ]
     },
     "execution_count": 6,
     "metadata": {},
     "output_type": "execute_result"
    }
   ],
   "source": [
    "id2label"
   ]
  },
  {
   "cell_type": "code",
   "execution_count": 7,
   "id": "77f39076",
   "metadata": {},
   "outputs": [
    {
     "data": {
      "text/plain": [
       "{'answer': 0, 'header': 1, 'other': 2, 'question': 3}"
      ]
     },
     "execution_count": 7,
     "metadata": {},
     "output_type": "execute_result"
    }
   ],
   "source": [
    "label2id"
   ]
  },
  {
   "cell_type": "code",
   "execution_count": 9,
   "id": "89d40ada",
   "metadata": {},
   "outputs": [],
   "source": [
    "metrics_log = []\n",
    "\n",
    "def flatten_pred_labels(pred, labels):\n",
    "    flat_preds = []\n",
    "    flat_labels = []\n",
    "    \n",
    "    for pred_doc, label_doc in zip(pred, labels):\n",
    "        for pred, label in zip(pred_doc, label_doc):\n",
    "            if label != -100:\n",
    "                flat_labels.append(label)\n",
    "                flat_preds.append(np.argmax(pred))\n",
    "                \n",
    "    return flat_preds, flat_labels\n",
    "\n",
    "def compute_metrics(p):\n",
    "    pred, labels = p\n",
    "    pred, labels = flatten_pred_labels(pred, labels)\n",
    "\n",
    "    accuracy = accuracy_score(y_true=labels, y_pred=pred)\n",
    "    recall_micro = recall_score(y_true=labels, y_pred=pred, average='micro')\n",
    "    recall_macro = recall_score(y_true=labels, y_pred=pred, average='macro')\n",
    "    precision_micro = precision_score(y_true=labels, y_pred=pred, average='micro')\n",
    "    precision_macro = precision_score(y_true=labels, y_pred=pred, average='macro')\n",
    "    f1_micro = f1_score(y_true=labels, y_pred=pred, average='micro')\n",
    "    f1_macro = f1_score(y_true=labels, y_pred=pred, average='macro')\n",
    "\n",
    "    metrics = {\n",
    "        \"accuracy\": accuracy,\n",
    "        \"precision_micro\": precision_micro,\n",
    "        \"precision_macro\": precision_macro,\n",
    "        \"recall_micro\": recall_micro,\n",
    "        \"recall_macro\": recall_macro,\n",
    "        \"f1_micro\": f1_micro,\n",
    "        \"f1_macro\": f1_macro\n",
    "    }\n",
    "    global metrics_log\n",
    "    metrics_log.append(metrics)\n",
    "    return metrics"
   ]
  },
  {
   "cell_type": "code",
   "execution_count": 10,
   "id": "e684b472",
   "metadata": {},
   "outputs": [],
   "source": [
    "train_args = TrainingArguments(\n",
    "    output_dir=\"./output\",\n",
    "    overwrite_output_dir=True,\n",
    "    save_strategy=\"no\",\n",
    "    num_train_epochs=EPOCHS,\n",
    "    per_device_train_batch_size=2,\n",
    "    per_device_eval_batch_size=2,\n",
    "    warmup_steps=500,\n",
    "    weight_decay=0.01,\n",
    "    logging_steps=50,\n",
    "    evaluation_strategy=\"steps\",\n",
    "    eval_steps=50\n",
    ")"
   ]
  },
  {
   "cell_type": "code",
   "execution_count": 11,
   "id": "159e4e3e",
   "metadata": {},
   "outputs": [
    {
     "name": "stderr",
     "output_type": "stream",
     "text": [
      "Some weights of the model checkpoint at microsoft/layoutlmv2-base-uncased were not used when initializing LayoutLMv2ForTokenClassification: ['layoutlmv2.visual.backbone.bottom_up.res4.12.conv2.norm.num_batches_tracked', 'layoutlmv2.visual.backbone.bottom_up.res4.7.conv3.norm.num_batches_tracked', 'layoutlmv2.visual.backbone.bottom_up.res4.3.conv2.norm.num_batches_tracked', 'layoutlmv2.visual.backbone.bottom_up.res4.15.conv1.norm.num_batches_tracked', 'layoutlmv2.visual.backbone.bottom_up.res5.0.conv3.norm.num_batches_tracked', 'layoutlmv2.visual.backbone.bottom_up.res4.11.conv3.norm.num_batches_tracked', 'layoutlmv2.visual.backbone.bottom_up.res2.1.conv3.norm.num_batches_tracked', 'layoutlmv2.visual.backbone.bottom_up.res4.0.conv3.norm.num_batches_tracked', 'layoutlmv2.visual.backbone.bottom_up.res4.22.conv1.norm.num_batches_tracked', 'layoutlmv2.visual.backbone.bottom_up.res4.0.shortcut.norm.num_batches_tracked', 'layoutlmv2.visual.backbone.bottom_up.res4.1.conv1.norm.num_batches_tracked', 'layoutlmv2.visual.backbone.bottom_up.res2.0.conv1.norm.num_batches_tracked', 'layoutlmv2.visual.backbone.bottom_up.res2.0.conv2.norm.num_batches_tracked', 'layoutlmv2.visual.backbone.bottom_up.res4.13.conv1.norm.num_batches_tracked', 'layoutlmv2.visual.backbone.bottom_up.res3.3.conv3.norm.num_batches_tracked', 'layoutlmv2.visual.backbone.bottom_up.res4.13.conv3.norm.num_batches_tracked', 'layoutlmv2.visual.backbone.bottom_up.res3.0.shortcut.norm.num_batches_tracked', 'layoutlmv2.visual.backbone.bottom_up.res4.20.conv3.norm.num_batches_tracked', 'layoutlmv2.visual.backbone.bottom_up.res5.0.conv1.norm.num_batches_tracked', 'layoutlmv2.visual.backbone.bottom_up.res4.4.conv3.norm.num_batches_tracked', 'layoutlmv2.visual.backbone.bottom_up.res4.6.conv3.norm.num_batches_tracked', 'layoutlmv2.visual.backbone.bottom_up.res4.6.conv1.norm.num_batches_tracked', 'layoutlmv2.visual.backbone.bottom_up.res4.11.conv2.norm.num_batches_tracked', 'layoutlmv2.visual.backbone.bottom_up.res5.2.conv1.norm.num_batches_tracked', 'layoutlmv2.visual.backbone.bottom_up.res3.1.conv3.norm.num_batches_tracked', 'layoutlmv2.visual.backbone.bottom_up.res4.7.conv2.norm.num_batches_tracked', 'layoutlmv2.visual.backbone.bottom_up.res4.20.conv1.norm.num_batches_tracked', 'layoutlmv2.visual.backbone.bottom_up.res5.1.conv3.norm.num_batches_tracked', 'layoutlmv2.visual.backbone.bottom_up.res4.10.conv1.norm.num_batches_tracked', 'layoutlmv2.visual.backbone.bottom_up.res4.12.conv1.norm.num_batches_tracked', 'layoutlmv2.visual.backbone.bottom_up.res4.4.conv2.norm.num_batches_tracked', 'layoutlmv2.visual.backbone.bottom_up.res4.14.conv2.norm.num_batches_tracked', 'layoutlmv2.visual.backbone.bottom_up.res4.19.conv2.norm.num_batches_tracked', 'layoutlmv2.visual.backbone.bottom_up.res4.16.conv3.norm.num_batches_tracked', 'layoutlmv2.visual.backbone.bottom_up.res4.6.conv2.norm.num_batches_tracked', 'layoutlmv2.visual.backbone.bottom_up.res4.3.conv1.norm.num_batches_tracked', 'layoutlmv2.visual.backbone.bottom_up.res5.0.conv2.norm.num_batches_tracked', 'layoutlmv2.visual.backbone.bottom_up.res3.3.conv1.norm.num_batches_tracked', 'layoutlmv2.visual.backbone.bottom_up.res4.16.conv1.norm.num_batches_tracked', 'layoutlmv2.visual.backbone.bottom_up.res3.3.conv2.norm.num_batches_tracked', 'layoutlmv2.visual.backbone.bottom_up.res5.2.conv2.norm.num_batches_tracked', 'layoutlmv2.visual.backbone.bottom_up.res4.10.conv3.norm.num_batches_tracked', 'layoutlmv2.visual.backbone.bottom_up.res4.17.conv1.norm.num_batches_tracked', 'layoutlmv2.visual.backbone.bottom_up.res5.0.shortcut.norm.num_batches_tracked', 'layoutlmv2.visual.backbone.bottom_up.res4.17.conv2.norm.num_batches_tracked', 'layoutlmv2.visual.backbone.bottom_up.res3.1.conv1.norm.num_batches_tracked', 'layoutlmv2.visual.backbone.bottom_up.res4.21.conv1.norm.num_batches_tracked', 'layoutlmv2.visual.backbone.bottom_up.res4.5.conv3.norm.num_batches_tracked', 'layoutlmv2.visual.backbone.bottom_up.res4.8.conv3.norm.num_batches_tracked', 'layoutlmv2.visual.backbone.bottom_up.stem.conv1.norm.num_batches_tracked', 'layoutlmv2.visual.backbone.bottom_up.res4.14.conv3.norm.num_batches_tracked', 'layoutlmv2.visual.backbone.bottom_up.res4.21.conv3.norm.num_batches_tracked', 'layoutlmv2.visual.backbone.bottom_up.res4.11.conv1.norm.num_batches_tracked', 'layoutlmv2.visual.backbone.bottom_up.res3.0.conv1.norm.num_batches_tracked', 'layoutlmv2.visual.backbone.bottom_up.res4.9.conv2.norm.num_batches_tracked', 'layoutlmv2.visual.backbone.bottom_up.res4.19.conv1.norm.num_batches_tracked', 'layoutlmv2.visual.backbone.bottom_up.res4.1.conv2.norm.num_batches_tracked', 'layoutlmv2.visual.backbone.bottom_up.res4.3.conv3.norm.num_batches_tracked', 'layoutlmv2.visual.backbone.bottom_up.res3.1.conv2.norm.num_batches_tracked', 'layoutlmv2.visual.backbone.bottom_up.res4.17.conv3.norm.num_batches_tracked', 'layoutlmv2.visual.backbone.bottom_up.res5.1.conv2.norm.num_batches_tracked', 'layoutlmv2.visual.backbone.bottom_up.res3.2.conv2.norm.num_batches_tracked', 'layoutlmv2.visual.backbone.bottom_up.res4.16.conv2.norm.num_batches_tracked', 'layoutlmv2.visual.backbone.bottom_up.res4.13.conv2.norm.num_batches_tracked', 'layoutlmv2.visual.backbone.bottom_up.res4.7.conv1.norm.num_batches_tracked', 'layoutlmv2.visual.backbone.bottom_up.res2.0.shortcut.norm.num_batches_tracked', 'layoutlmv2.visual.backbone.bottom_up.res4.19.conv3.norm.num_batches_tracked', 'layoutlmv2.visual.backbone.bottom_up.res3.0.conv2.norm.num_batches_tracked', 'layoutlmv2.visual.backbone.bottom_up.res4.15.conv2.norm.num_batches_tracked', 'layoutlmv2.visual.backbone.bottom_up.res4.4.conv1.norm.num_batches_tracked', 'layoutlmv2.visual.backbone.bottom_up.res3.2.conv1.norm.num_batches_tracked', 'layoutlmv2.visual.backbone.bottom_up.res2.2.conv1.norm.num_batches_tracked', 'layoutlmv2.visual.backbone.bottom_up.res4.5.conv2.norm.num_batches_tracked', 'layoutlmv2.visual.backbone.bottom_up.res4.12.conv3.norm.num_batches_tracked', 'layoutlmv2.visual.backbone.bottom_up.res4.0.conv2.norm.num_batches_tracked', 'layoutlmv2.visual.backbone.bottom_up.res4.9.conv1.norm.num_batches_tracked', 'layoutlmv2.visual.backbone.bottom_up.res2.1.conv2.norm.num_batches_tracked', 'layoutlmv2.visual.backbone.bottom_up.res4.21.conv2.norm.num_batches_tracked', 'layoutlmv2.visual.backbone.bottom_up.res5.2.conv3.norm.num_batches_tracked', 'layoutlmv2.visual.backbone.bottom_up.res4.2.conv3.norm.num_batches_tracked', 'layoutlmv2.visual.backbone.bottom_up.res4.22.conv2.norm.num_batches_tracked', 'layoutlmv2.visual.backbone.bottom_up.res4.1.conv3.norm.num_batches_tracked', 'layoutlmv2.visual.backbone.bottom_up.res2.2.conv2.norm.num_batches_tracked', 'layoutlmv2.visual.backbone.bottom_up.res4.10.conv2.norm.num_batches_tracked', 'layoutlmv2.visual.backbone.bottom_up.res4.2.conv2.norm.num_batches_tracked', 'layoutlmv2.visual.backbone.bottom_up.res4.9.conv3.norm.num_batches_tracked', 'layoutlmv2.visual.backbone.bottom_up.res2.0.conv3.norm.num_batches_tracked', 'layoutlmv2.visual.backbone.bottom_up.res3.0.conv3.norm.num_batches_tracked', 'layoutlmv2.visual.backbone.bottom_up.res4.15.conv3.norm.num_batches_tracked', 'layoutlmv2.visual.backbone.bottom_up.res4.2.conv1.norm.num_batches_tracked', 'layoutlmv2.visual.backbone.bottom_up.res4.20.conv2.norm.num_batches_tracked', 'layoutlmv2.visual.backbone.bottom_up.res4.0.conv1.norm.num_batches_tracked', 'layoutlmv2.visual.backbone.bottom_up.res4.18.conv2.norm.num_batches_tracked', 'layoutlmv2.visual.backbone.bottom_up.res4.18.conv3.norm.num_batches_tracked', 'layoutlmv2.visual.backbone.bottom_up.res4.14.conv1.norm.num_batches_tracked', 'layoutlmv2.visual.backbone.bottom_up.res4.22.conv3.norm.num_batches_tracked', 'layoutlmv2.visual.backbone.bottom_up.res5.1.conv1.norm.num_batches_tracked', 'layoutlmv2.visual.backbone.bottom_up.res2.2.conv3.norm.num_batches_tracked', 'layoutlmv2.visual.backbone.bottom_up.res4.5.conv1.norm.num_batches_tracked', 'layoutlmv2.visual.backbone.bottom_up.res4.18.conv1.norm.num_batches_tracked', 'layoutlmv2.visual.backbone.bottom_up.res2.1.conv1.norm.num_batches_tracked', 'layoutlmv2.visual.backbone.bottom_up.res4.8.conv2.norm.num_batches_tracked', 'layoutlmv2.visual.backbone.bottom_up.res3.2.conv3.norm.num_batches_tracked', 'layoutlmv2.visual.backbone.bottom_up.res4.8.conv1.norm.num_batches_tracked']\n",
      "- This IS expected if you are initializing LayoutLMv2ForTokenClassification from the checkpoint of a model trained on another task or with another architecture (e.g. initializing a BertForSequenceClassification model from a BertForPreTraining model).\n",
      "- This IS NOT expected if you are initializing LayoutLMv2ForTokenClassification from the checkpoint of a model that you expect to be exactly identical (initializing a BertForSequenceClassification model from a BertForSequenceClassification model).\n"
     ]
    },
    {
     "name": "stderr",
     "output_type": "stream",
     "text": [
      "Some weights of LayoutLMv2ForTokenClassification were not initialized from the model checkpoint at microsoft/layoutlmv2-base-uncased and are newly initialized: ['classifier.bias', 'classifier.weight']\n",
      "You should probably TRAIN this model on a down-stream task to be able to use it for predictions and inference.\n"
     ]
    }
   ],
   "source": [
    "model = LayoutLMv2ForTokenClassification.from_pretrained(\"microsoft/layoutlmv2-base-uncased\", num_labels=4)"
   ]
  },
  {
   "cell_type": "code",
   "execution_count": 12,
   "id": "786119a0",
   "metadata": {},
   "outputs": [],
   "source": [
    "trainer = Trainer(\n",
    "    model=model,\n",
    "    args=train_args,\n",
    "    train_dataset=train_dataset,\n",
    "    eval_dataset=test_dataset,\n",
    "    compute_metrics=compute_metrics\n",
    ")"
   ]
  },
  {
   "cell_type": "code",
   "execution_count": 13,
   "id": "63655125",
   "metadata": {},
   "outputs": [
    {
     "name": "stderr",
     "output_type": "stream",
     "text": [
      "***** Running training *****\n",
      "  Num examples = 149\n",
      "  Num Epochs = 10\n",
      "  Instantaneous batch size per device = 2\n",
      "  Total train batch size (w. parallel, distributed & accumulation) = 2\n",
      "  Gradient Accumulation steps = 1\n",
      "  Total optimization steps = 750\n"
     ]
    },
    {
     "data": {
      "text/html": [
       "\n",
       "    <div>\n",
       "      \n",
       "      <progress value='750' max='750' style='width:300px; height:20px; vertical-align: middle;'></progress>\n",
       "      [750/750 06:12, Epoch 10/10]\n",
       "    </div>\n",
       "    <table border=\"1\" class=\"dataframe\">\n",
       "  <thead>\n",
       "    <tr style=\"text-align: left;\">\n",
       "      <th>Step</th>\n",
       "      <th>Training Loss</th>\n",
       "      <th>Validation Loss</th>\n",
       "      <th>Accuracy</th>\n",
       "      <th>Precision Micro</th>\n",
       "      <th>Precision Macro</th>\n",
       "      <th>Recall Micro</th>\n",
       "      <th>Recall Macro</th>\n",
       "      <th>F1 Micro</th>\n",
       "      <th>F1 Macro</th>\n",
       "    </tr>\n",
       "  </thead>\n",
       "  <tbody>\n",
       "    <tr>\n",
       "      <td>50</td>\n",
       "      <td>1.352200</td>\n",
       "      <td>1.297277</td>\n",
       "      <td>0.428905</td>\n",
       "      <td>0.428905</td>\n",
       "      <td>0.427640</td>\n",
       "      <td>0.428905</td>\n",
       "      <td>0.290013</td>\n",
       "      <td>0.428905</td>\n",
       "      <td>0.217838</td>\n",
       "    </tr>\n",
       "    <tr>\n",
       "      <td>100</td>\n",
       "      <td>1.206700</td>\n",
       "      <td>1.133123</td>\n",
       "      <td>0.564908</td>\n",
       "      <td>0.564908</td>\n",
       "      <td>0.549446</td>\n",
       "      <td>0.564908</td>\n",
       "      <td>0.410825</td>\n",
       "      <td>0.564908</td>\n",
       "      <td>0.339669</td>\n",
       "    </tr>\n",
       "    <tr>\n",
       "      <td>150</td>\n",
       "      <td>0.982100</td>\n",
       "      <td>0.846833</td>\n",
       "      <td>0.778660</td>\n",
       "      <td>0.778660</td>\n",
       "      <td>0.579490</td>\n",
       "      <td>0.778660</td>\n",
       "      <td>0.608291</td>\n",
       "      <td>0.778660</td>\n",
       "      <td>0.593064</td>\n",
       "    </tr>\n",
       "    <tr>\n",
       "      <td>200</td>\n",
       "      <td>0.788900</td>\n",
       "      <td>0.766937</td>\n",
       "      <td>0.773990</td>\n",
       "      <td>0.773990</td>\n",
       "      <td>0.782028</td>\n",
       "      <td>0.773990</td>\n",
       "      <td>0.686075</td>\n",
       "      <td>0.773990</td>\n",
       "      <td>0.716184</td>\n",
       "    </tr>\n",
       "    <tr>\n",
       "      <td>250</td>\n",
       "      <td>0.734000</td>\n",
       "      <td>0.691811</td>\n",
       "      <td>0.816484</td>\n",
       "      <td>0.816484</td>\n",
       "      <td>0.774975</td>\n",
       "      <td>0.816484</td>\n",
       "      <td>0.763004</td>\n",
       "      <td>0.816484</td>\n",
       "      <td>0.767551</td>\n",
       "    </tr>\n",
       "    <tr>\n",
       "      <td>300</td>\n",
       "      <td>0.664600</td>\n",
       "      <td>0.648714</td>\n",
       "      <td>0.824072</td>\n",
       "      <td>0.824072</td>\n",
       "      <td>0.792853</td>\n",
       "      <td>0.824072</td>\n",
       "      <td>0.780865</td>\n",
       "      <td>0.824072</td>\n",
       "      <td>0.785530</td>\n",
       "    </tr>\n",
       "    <tr>\n",
       "      <td>350</td>\n",
       "      <td>0.578600</td>\n",
       "      <td>0.755757</td>\n",
       "      <td>0.754028</td>\n",
       "      <td>0.754028</td>\n",
       "      <td>0.741835</td>\n",
       "      <td>0.754028</td>\n",
       "      <td>0.722275</td>\n",
       "      <td>0.754028</td>\n",
       "      <td>0.721652</td>\n",
       "    </tr>\n",
       "    <tr>\n",
       "      <td>400</td>\n",
       "      <td>0.534400</td>\n",
       "      <td>0.714139</td>\n",
       "      <td>0.770488</td>\n",
       "      <td>0.770488</td>\n",
       "      <td>0.730060</td>\n",
       "      <td>0.770488</td>\n",
       "      <td>0.743477</td>\n",
       "      <td>0.770488</td>\n",
       "      <td>0.727528</td>\n",
       "    </tr>\n",
       "    <tr>\n",
       "      <td>450</td>\n",
       "      <td>0.549500</td>\n",
       "      <td>0.674678</td>\n",
       "      <td>0.786248</td>\n",
       "      <td>0.786248</td>\n",
       "      <td>0.718031</td>\n",
       "      <td>0.786248</td>\n",
       "      <td>0.752188</td>\n",
       "      <td>0.786248</td>\n",
       "      <td>0.730034</td>\n",
       "    </tr>\n",
       "    <tr>\n",
       "      <td>500</td>\n",
       "      <td>0.474600</td>\n",
       "      <td>0.635257</td>\n",
       "      <td>0.794420</td>\n",
       "      <td>0.794420</td>\n",
       "      <td>0.713656</td>\n",
       "      <td>0.794420</td>\n",
       "      <td>0.763519</td>\n",
       "      <td>0.794420</td>\n",
       "      <td>0.729277</td>\n",
       "    </tr>\n",
       "    <tr>\n",
       "      <td>550</td>\n",
       "      <td>0.417700</td>\n",
       "      <td>0.621757</td>\n",
       "      <td>0.814032</td>\n",
       "      <td>0.814032</td>\n",
       "      <td>0.774940</td>\n",
       "      <td>0.814032</td>\n",
       "      <td>0.778590</td>\n",
       "      <td>0.814032</td>\n",
       "      <td>0.776704</td>\n",
       "    </tr>\n",
       "    <tr>\n",
       "      <td>600</td>\n",
       "      <td>0.400500</td>\n",
       "      <td>0.641914</td>\n",
       "      <td>0.787532</td>\n",
       "      <td>0.787532</td>\n",
       "      <td>0.728616</td>\n",
       "      <td>0.787532</td>\n",
       "      <td>0.755031</td>\n",
       "      <td>0.787532</td>\n",
       "      <td>0.732997</td>\n",
       "    </tr>\n",
       "    <tr>\n",
       "      <td>650</td>\n",
       "      <td>0.335300</td>\n",
       "      <td>0.591628</td>\n",
       "      <td>0.823605</td>\n",
       "      <td>0.823605</td>\n",
       "      <td>0.763746</td>\n",
       "      <td>0.823605</td>\n",
       "      <td>0.769893</td>\n",
       "      <td>0.823605</td>\n",
       "      <td>0.766613</td>\n",
       "    </tr>\n",
       "    <tr>\n",
       "      <td>700</td>\n",
       "      <td>0.289800</td>\n",
       "      <td>0.604202</td>\n",
       "      <td>0.815316</td>\n",
       "      <td>0.815316</td>\n",
       "      <td>0.747735</td>\n",
       "      <td>0.815316</td>\n",
       "      <td>0.777726</td>\n",
       "      <td>0.815316</td>\n",
       "      <td>0.759557</td>\n",
       "    </tr>\n",
       "    <tr>\n",
       "      <td>750</td>\n",
       "      <td>0.287600</td>\n",
       "      <td>0.605374</td>\n",
       "      <td>0.814149</td>\n",
       "      <td>0.814149</td>\n",
       "      <td>0.750960</td>\n",
       "      <td>0.814149</td>\n",
       "      <td>0.783937</td>\n",
       "      <td>0.814149</td>\n",
       "      <td>0.763327</td>\n",
       "    </tr>\n",
       "  </tbody>\n",
       "</table><p>"
      ],
      "text/plain": [
       "<IPython.core.display.HTML object>"
      ]
     },
     "metadata": {},
     "output_type": "display_data"
    },
    {
     "name": "stderr",
     "output_type": "stream",
     "text": [
      "***** Running Evaluation *****\n",
      "  Num examples = 50\n",
      "  Batch size = 2\n",
      "/home/vspecky/Programming/Pibit/deep_learning/policy/.venv/lib/python3.8/site-packages/sklearn/metrics/_classification.py:1318: UndefinedMetricWarning: Precision is ill-defined and being set to 0.0 in labels with no predicted samples. Use `zero_division` parameter to control this behavior.\n",
      "  _warn_prf(average, modifier, msg_start, len(result))\n",
      "***** Running Evaluation *****\n",
      "  Num examples = 50\n",
      "  Batch size = 2\n",
      "/home/vspecky/Programming/Pibit/deep_learning/policy/.venv/lib/python3.8/site-packages/sklearn/metrics/_classification.py:1318: UndefinedMetricWarning: Precision is ill-defined and being set to 0.0 in labels with no predicted samples. Use `zero_division` parameter to control this behavior.\n",
      "  _warn_prf(average, modifier, msg_start, len(result))\n",
      "***** Running Evaluation *****\n",
      "  Num examples = 50\n",
      "  Batch size = 2\n",
      "/home/vspecky/Programming/Pibit/deep_learning/policy/.venv/lib/python3.8/site-packages/sklearn/metrics/_classification.py:1318: UndefinedMetricWarning: Precision is ill-defined and being set to 0.0 in labels with no predicted samples. Use `zero_division` parameter to control this behavior.\n",
      "  _warn_prf(average, modifier, msg_start, len(result))\n",
      "***** Running Evaluation *****\n",
      "  Num examples = 50\n",
      "  Batch size = 2\n",
      "***** Running Evaluation *****\n",
      "  Num examples = 50\n",
      "  Batch size = 2\n",
      "***** Running Evaluation *****\n",
      "  Num examples = 50\n",
      "  Batch size = 2\n",
      "***** Running Evaluation *****\n",
      "  Num examples = 50\n",
      "  Batch size = 2\n",
      "***** Running Evaluation *****\n",
      "  Num examples = 50\n",
      "  Batch size = 2\n",
      "***** Running Evaluation *****\n",
      "  Num examples = 50\n",
      "  Batch size = 2\n",
      "***** Running Evaluation *****\n",
      "  Num examples = 50\n",
      "  Batch size = 2\n",
      "***** Running Evaluation *****\n",
      "  Num examples = 50\n",
      "  Batch size = 2\n",
      "***** Running Evaluation *****\n",
      "  Num examples = 50\n",
      "  Batch size = 2\n",
      "***** Running Evaluation *****\n",
      "  Num examples = 50\n",
      "  Batch size = 2\n",
      "***** Running Evaluation *****\n",
      "  Num examples = 50\n",
      "  Batch size = 2\n",
      "***** Running Evaluation *****\n",
      "  Num examples = 50\n",
      "  Batch size = 2\n",
      "\n",
      "\n",
      "Training completed. Do not forget to share your model on huggingface.co/models =)\n",
      "\n",
      "\n"
     ]
    },
    {
     "data": {
      "text/plain": [
       "TrainOutput(global_step=750, training_loss=0.6397737922668457, metrics={'train_runtime': 373.1187, 'train_samples_per_second': 3.993, 'train_steps_per_second': 2.01, 'total_flos': 804343095582720.0, 'train_loss': 0.6397737922668457, 'epoch': 10.0})"
      ]
     },
     "execution_count": 13,
     "metadata": {},
     "output_type": "execute_result"
    }
   ],
   "source": [
    "trainer.train()"
   ]
  },
  {
   "cell_type": "code",
   "execution_count": null,
   "id": "d9b0d6bf",
   "metadata": {},
   "outputs": [],
   "source": [
    "trainer.save_model(\"./layoutlm_10ep_2\")"
   ]
  },
  {
   "cell_type": "code",
   "execution_count": 15,
   "id": "d9a9ae3f",
   "metadata": {},
   "outputs": [
    {
     "data": {
      "text/plain": [
       "[{'accuracy': 0.4289049731496615,\n",
       "  'precision_micro': 0.4289049731496615,\n",
       "  'precision_macro': 0.4276397317062327,\n",
       "  'recall_micro': 0.4289049731496615,\n",
       "  'recall_macro': 0.29001319822222765,\n",
       "  'f1_micro': 0.4289049731496615,\n",
       "  'f1_macro': 0.21783785643442816},\n",
       " {'accuracy': 0.5649077749241186,\n",
       "  'precision_micro': 0.5649077749241186,\n",
       "  'precision_macro': 0.5494455970316386,\n",
       "  'recall_micro': 0.5649077749241186,\n",
       "  'recall_macro': 0.4108252692450669,\n",
       "  'f1_micro': 0.5649077749241186,\n",
       "  'f1_macro': 0.3396692608184931},\n",
       " {'accuracy': 0.7786598178846603,\n",
       "  'precision_micro': 0.7786598178846603,\n",
       "  'precision_macro': 0.5794904686753749,\n",
       "  'recall_micro': 0.7786598178846603,\n",
       "  'recall_macro': 0.6082910632237857,\n",
       "  'f1_micro': 0.7786598178846603,\n",
       "  'f1_macro': 0.5930641330247307},\n",
       " {'accuracy': 0.7739901937893999,\n",
       "  'precision_micro': 0.7739901937893999,\n",
       "  'precision_macro': 0.7820277735677826,\n",
       "  'recall_micro': 0.7739901937893999,\n",
       "  'recall_macro': 0.6860745067094375,\n",
       "  'f1_micro': 0.7739901937893999,\n",
       "  'f1_macro': 0.7161838748601375},\n",
       " {'accuracy': 0.816483773056269,\n",
       "  'precision_micro': 0.816483773056269,\n",
       "  'precision_macro': 0.7749754085708078,\n",
       "  'recall_micro': 0.816483773056269,\n",
       "  'recall_macro': 0.7630036911755415,\n",
       "  'f1_micro': 0.816483773056269,\n",
       "  'f1_macro': 0.767551392258262},\n",
       " {'accuracy': 0.824071912211067,\n",
       "  'precision_micro': 0.824071912211067,\n",
       "  'precision_macro': 0.7928529213524635,\n",
       "  'recall_micro': 0.824071912211067,\n",
       "  'recall_macro': 0.7808653688380414,\n",
       "  'f1_micro': 0.824071912211067,\n",
       "  'f1_macro': 0.7855298244112197},\n",
       " {'accuracy': 0.754027550782162,\n",
       "  'precision_micro': 0.754027550782162,\n",
       "  'precision_macro': 0.7418348729650928,\n",
       "  'recall_micro': 0.754027550782162,\n",
       "  'recall_macro': 0.7222747368284022,\n",
       "  'f1_micro': 0.754027550782162,\n",
       "  'f1_macro': 0.7216518446105835},\n",
       " {'accuracy': 0.7704879757179547,\n",
       "  'precision_micro': 0.7704879757179547,\n",
       "  'precision_macro': 0.7300602788085986,\n",
       "  'recall_micro': 0.7704879757179547,\n",
       "  'recall_macro': 0.7434771605311201,\n",
       "  'f1_micro': 0.7704879757179547,\n",
       "  'f1_macro': 0.727527670992602},\n",
       " {'accuracy': 0.7862479570394584,\n",
       "  'precision_micro': 0.7862479570394584,\n",
       "  'precision_macro': 0.7180305331620194,\n",
       "  'recall_micro': 0.7862479570394584,\n",
       "  'recall_macro': 0.7521883907034699,\n",
       "  'f1_micro': 0.7862479570394583,\n",
       "  'f1_macro': 0.7300342915117032},\n",
       " {'accuracy': 0.7944197992061639,\n",
       "  'precision_micro': 0.7944197992061639,\n",
       "  'precision_macro': 0.7136557322489747,\n",
       "  'recall_micro': 0.7944197992061639,\n",
       "  'recall_macro': 0.7635192958943577,\n",
       "  'f1_micro': 0.7944197992061639,\n",
       "  'f1_macro': 0.729277285546031},\n",
       " {'accuracy': 0.8140322204062573,\n",
       "  'precision_micro': 0.8140322204062573,\n",
       "  'precision_macro': 0.7749396234844551,\n",
       "  'recall_micro': 0.8140322204062573,\n",
       "  'recall_macro': 0.7785900397636585,\n",
       "  'f1_micro': 0.8140322204062574,\n",
       "  'f1_macro': 0.7767044423379307},\n",
       " {'accuracy': 0.787532103665655,\n",
       "  'precision_micro': 0.787532103665655,\n",
       "  'precision_macro': 0.7286155879222168,\n",
       "  'recall_micro': 0.787532103665655,\n",
       "  'recall_macro': 0.7550312442857594,\n",
       "  'f1_micro': 0.787532103665655,\n",
       "  'f1_macro': 0.7329969131246696},\n",
       " {'accuracy': 0.823604949801541,\n",
       "  'precision_micro': 0.823604949801541,\n",
       "  'precision_macro': 0.7637461490955092,\n",
       "  'recall_micro': 0.823604949801541,\n",
       "  'recall_macro': 0.7698929316588599,\n",
       "  'f1_micro': 0.823604949801541,\n",
       "  'f1_macro': 0.7666131034139441},\n",
       " {'accuracy': 0.8153163670324539,\n",
       "  'precision_micro': 0.8153163670324539,\n",
       "  'precision_macro': 0.7477349257133148,\n",
       "  'recall_micro': 0.8153163670324539,\n",
       "  'recall_macro': 0.7777255255263291,\n",
       "  'f1_micro': 0.8153163670324539,\n",
       "  'f1_macro': 0.7595572650025488},\n",
       " {'accuracy': 0.8141489610086388,\n",
       "  'precision_micro': 0.8141489610086388,\n",
       "  'precision_macro': 0.7509595877542248,\n",
       "  'recall_micro': 0.8141489610086388,\n",
       "  'recall_macro': 0.7839370419171363,\n",
       "  'f1_micro': 0.8141489610086389,\n",
       "  'f1_macro': 0.7633273588670149}]"
      ]
     },
     "execution_count": 15,
     "metadata": {},
     "output_type": "execute_result"
    }
   ],
   "source": [
    "metrics_log"
   ]
  },
  {
   "cell_type": "code",
   "execution_count": 16,
   "id": "ba68300d",
   "metadata": {},
   "outputs": [],
   "source": [
    "import json"
   ]
  },
  {
   "cell_type": "code",
   "execution_count": 17,
   "id": "c28200a5",
   "metadata": {},
   "outputs": [],
   "source": [
    "with open(\"metrics.json\", \"w\") as jsonfile:\n",
    "    json.dump(metrics_log, jsonfile, indent=4)"
   ]
  },
  {
   "cell_type": "code",
   "execution_count": 19,
   "id": "80777da6",
   "metadata": {},
   "outputs": [],
   "source": [
    "import matplotlib.pyplot as plt"
   ]
  },
  {
   "cell_type": "code",
   "execution_count": 22,
   "id": "88f68fe9",
   "metadata": {},
   "outputs": [
    {
     "data": {
      "text/plain": [
       "[50, 100, 150, 200, 250, 300, 350, 400, 450, 500, 550, 600, 650, 700, 750]"
      ]
     },
     "execution_count": 22,
     "metadata": {},
     "output_type": "execute_result"
    }
   ],
   "source": [
    "X = [50 * e for e in range(1, 16)]\n",
    "X"
   ]
  },
  {
   "cell_type": "code",
   "execution_count": 23,
   "id": "672c9db9",
   "metadata": {},
   "outputs": [
    {
     "data": {
      "text/plain": [
       "15"
      ]
     },
     "execution_count": 23,
     "metadata": {},
     "output_type": "execute_result"
    }
   ],
   "source": [
    "len(X)"
   ]
  },
  {
   "cell_type": "code",
   "execution_count": 24,
   "id": "36ce23e1",
   "metadata": {},
   "outputs": [
    {
     "data": {
      "text/plain": [
       "15"
      ]
     },
     "execution_count": 24,
     "metadata": {},
     "output_type": "execute_result"
    }
   ],
   "source": [
    "len(metrics_log)"
   ]
  },
  {
   "cell_type": "code",
   "execution_count": 50,
   "id": "94607156",
   "metadata": {},
   "outputs": [
    {
     "data": {
      "image/png": "[encoded data removed]",
      "text/plain": [
       "<Figure size 432x288 with 1 Axes>"
      ]
     },
     "metadata": {
      "needs_background": "light"
     },
     "output_type": "display_data"
    }
   ],
   "source": [
    "acc = [m[\"accuracy\"] for m in metrics_log]\n",
    "\n",
    "plt.plot(X, acc, label=\"Accuracy\")\n",
    "plt.xticks(range(0, 751, 50))\n",
    "plt.xlabel(\"Steps\")\n",
    "plt.ylabel(\"Accuracy\")\n",
    "plt.savefig(\"graphs/accuracy.png\")\n",
    "plt.savefig(\"graphs/accuracy_nt.png\", facecolor='white', transparent=False)\n",
    "plt.savefig(f\"graphs/accuracy.svg\", facecolor='white', transparent=False, format=\"svg\")\n",
    "\n",
    "plt.show()"
   ]
  },
  {
   "cell_type": "code",
   "execution_count": 37,
   "id": "ebc16973",
   "metadata": {},
   "outputs": [
    {
     "data": {
      "image/png": "[encoded data removed]",
      "text/plain": [
       "<Figure size 432x288 with 1 Axes>"
      ]
     },
     "metadata": {
      "needs_background": "light"
     },
     "output_type": "display_data"
    }
   ],
   "source": [
    "prec_micro = [m[\"precision_micro\"] for m in metrics_log]\n",
    "prec_macro = [m[\"precision_macro\"] for m in metrics_log]\n",
    "\n",
    "plt.plot(X, prec_micro, label=\"Micro Avg.\")\n",
    "plt.plot(X, prec_macro, label=\"Macro Avg.\")\n",
    "plt.xlabel(\"Steps\")\n",
    "plt.ylabel(\"Precision Score\")\n",
    "plt.legend()\n",
    "plt.savefig(\"precision.png\")\n",
    "plt.savefig(\"precision_nt.png\", facecolor='white', transparent=False)\n",
    "plt.show()"
   ]
  },
  {
   "cell_type": "code",
   "execution_count": 49,
   "id": "cddcb02f",
   "metadata": {},
   "outputs": [],
   "source": [
    "def plot_n_save(key):\n",
    "    cap = key[0].upper() + key[1:]\n",
    "    \n",
    "    micro = [m[f\"{key}_micro\"] for m in metrics_log]\n",
    "    macro = [m[f\"{key}_macro\"] for m in metrics_log]\n",
    "    \n",
    "    plt.plot(X, micro, label=\"Micro Avg.\")\n",
    "    plt.plot(X, macro, label=\"Macro Avg.\")\n",
    "    plt.xlabel(\"Steps\")\n",
    "    plt.ylabel(f\"{cap} Score\")\n",
    "    plt.legend()\n",
    "    plt.savefig(f\"graphs/{key}.png\")\n",
    "    plt.savefig(f\"graphs/{key}_nt.png\", facecolor='white', transparent=False)\n",
    "    plt.savefig(f\"graphs/{key}.svg\", facecolor='white', transparent=False, format=\"svg\")\n",
    "    plt.show()"
   ]
  },
  {
   "cell_type": "code",
   "execution_count": 46,
   "id": "ed8254bc",
   "metadata": {},
   "outputs": [
    {
     "data": {
      "image/png": "[encoded data removed]",
      "text/plain": [
       "<Figure size 432x288 with 1 Axes>"
      ]
     },
     "metadata": {
      "needs_background": "light"
     },
     "output_type": "display_data"
    }
   ],
   "source": [
    "plot_n_save(\"precision\")"
   ]
  },
  {
   "cell_type": "code",
   "execution_count": 47,
   "id": "5def3957",
   "metadata": {},
   "outputs": [
    {
     "data": {
      "image/png": "[encoded data removed]",
      "text/plain": [
       "<Figure size 432x288 with 1 Axes>"
      ]
     },
     "metadata": {
      "needs_background": "light"
     },
     "output_type": "display_data"
    }
   ],
   "source": [
    "plot_n_save(\"recall\")"
   ]
  },
  {
   "cell_type": "code",
   "execution_count": 48,
   "id": "40002280",
   "metadata": {},
   "outputs": [
    {
     "data": {
      "image/png": "[encoded data removed]",
      "text/plain": [
       "<Figure size 432x288 with 1 Axes>"
      ]
     },
     "metadata": {
      "needs_background": "light"
     },
     "output_type": "display_data"
    }
   ],
   "source": [
    "plot_n_save(\"f1\")"
   ]
  },
  {
   "cell_type": "code",
   "execution_count": 55,
   "id": "3a4e632a",
   "metadata": {},
   "outputs": [],
   "source": [
    "def extract_loss(loss):\n",
    "    with open(loss, \"r\") as lossfile:\n",
    "        string = lossfile.read()\n",
    "        \n",
    "    strvals = string.split('\\n')\n",
    "    if strvals[-1] == '':\n",
    "        strvals = strvals[:-1]\n",
    "    print(strvals)\n",
    "    floatvals = list(map(float, strvals))\n",
    "    return floatvals"
   ]
  },
  {
   "cell_type": "code",
   "execution_count": 56,
   "id": "1bf5f1c5",
   "metadata": {},
   "outputs": [
    {
     "name": "stdout",
     "output_type": "stream",
     "text": [
      "['1.352200', '1.206700', '0.982100', '0.788900', '0.734000', '0.664600', '0.578600', '0.534400', '0.549500', '0.474600', '0.417700', '0.400500', '0.335300', '0.289800', '0.287600']\n",
      "['1.297277', '1.133123', '0.846833', '0.766937', '0.691811', '0.648714', '0.755757', '0.714139', '0.674678', '0.635257', '0.621757', '0.641914', '0.591628', '0.604202', '0.605374']\n"
     ]
    }
   ],
   "source": [
    "train_loss = extract_loss(\"training_loss\")\n",
    "val_loss = extract_loss(\"validation_loss\")"
   ]
  },
  {
   "cell_type": "code",
   "execution_count": 57,
   "id": "ea682b89",
   "metadata": {},
   "outputs": [
    {
     "data": {
      "text/plain": [
       "[1.3522,\n",
       " 1.2067,\n",
       " 0.9821,\n",
       " 0.7889,\n",
       " 0.734,\n",
       " 0.6646,\n",
       " 0.5786,\n",
       " 0.5344,\n",
       " 0.5495,\n",
       " 0.4746,\n",
       " 0.4177,\n",
       " 0.4005,\n",
       " 0.3353,\n",
       " 0.2898,\n",
       " 0.2876]"
      ]
     },
     "execution_count": 57,
     "metadata": {},
     "output_type": "execute_result"
    }
   ],
   "source": [
    "train_loss"
   ]
  },
  {
   "cell_type": "code",
   "execution_count": 60,
   "id": "74fa8249",
   "metadata": {},
   "outputs": [
    {
     "data": {
      "image/png": "[encoded data removed]",
      "text/plain": [
       "<Figure size 432x288 with 1 Axes>"
      ]
     },
     "metadata": {
      "needs_background": "light"
     },
     "output_type": "display_data"
    }
   ],
   "source": [
    "plt.plot(X, train_loss, label=\"Training Loss\")\n",
    "plt.plot(X, val_loss, label=\"Validation Loss\")\n",
    "plt.xlabel(\"Steps\")\n",
    "plt.ylabel(f\"Categorical Crossentropy Loss\")\n",
    "plt.legend()\n",
    "plt.savefig(f\"metrics/loss.png\")\n",
    "plt.savefig(f\"metrics/loss_nt.png\", facecolor='white', transparent=False)\n",
    "plt.savefig(f\"metrics/loss.svg\", facecolor='white', transparent=False, format=\"svg\")\n",
    "plt.show()"
   ]
  },
  {
   "cell_type": "code",
   "execution_count": null,
   "id": "574963fc",
   "metadata": {},
   "outputs": [],
   "source": []
  }
 ],
 "metadata": {
  "kernelspec": {
   "display_name": "Python 3 (ipykernel)",
   "language": "python",
   "name": "python3"
  },
  "language_info": {
   "codemirror_mode": {
    "name": "ipython",
    "version": 3
   },
   "file_extension": ".py",
   "mimetype": "text/x-python",
   "name": "python",
   "nbconvert_exporter": "python",
   "pygments_lexer": "ipython3",
   "version": "3.8.8"
  }
 },
 "nbformat": 4,
 "nbformat_minor": 5
}
